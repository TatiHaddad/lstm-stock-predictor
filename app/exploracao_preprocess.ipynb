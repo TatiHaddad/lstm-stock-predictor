{
 "cells": [
  {
   "cell_type": "code",
   "execution_count": 6,
   "id": "e2e46a59",
   "metadata": {},
   "outputs": [
    {
     "name": "stdout",
     "output_type": "stream",
     "text": [
      "Collecting scikit-learn\n",
      "  Using cached scikit_learn-1.6.1-cp312-cp312-win_amd64.whl.metadata (15 kB)\n",
      "Requirement already satisfied: numpy>=1.19.5 in c:\\users\\tatia\\onedrive\\documentos\\cursos\\fiap\\pos - eng ml\\techchallenge4\\stock_predictor_lstm\\venv\\lib\\site-packages (from scikit-learn) (2.2.6)\n",
      "Collecting scipy>=1.6.0 (from scikit-learn)\n",
      "  Using cached scipy-1.15.3-cp312-cp312-win_amd64.whl.metadata (60 kB)\n",
      "Collecting joblib>=1.2.0 (from scikit-learn)\n",
      "  Using cached joblib-1.5.0-py3-none-any.whl.metadata (5.6 kB)\n",
      "Collecting threadpoolctl>=3.1.0 (from scikit-learn)\n",
      "  Using cached threadpoolctl-3.6.0-py3-none-any.whl.metadata (13 kB)\n",
      "Using cached scikit_learn-1.6.1-cp312-cp312-win_amd64.whl (11.1 MB)\n",
      "Using cached joblib-1.5.0-py3-none-any.whl (307 kB)\n",
      "Downloading scipy-1.15.3-cp312-cp312-win_amd64.whl (41.0 MB)\n",
      "   ---------------------------------------- 0.0/41.0 MB ? eta -:--:--\n",
      "   -- ------------------------------------- 2.9/41.0 MB 16.7 MB/s eta 0:00:03\n",
      "   ------- -------------------------------- 7.9/41.0 MB 20.3 MB/s eta 0:00:02\n",
      "   -------------- ------------------------- 14.9/41.0 MB 24.7 MB/s eta 0:00:02\n",
      "   ---------------------- ----------------- 22.5/41.0 MB 27.4 MB/s eta 0:00:01\n",
      "   ----------------------------- ---------- 30.1/41.0 MB 29.4 MB/s eta 0:00:01\n",
      "   ----------------------------------- ---- 36.7/41.0 MB 29.5 MB/s eta 0:00:01\n",
      "   ---------------------------------------  40.9/41.0 MB 29.2 MB/s eta 0:00:01\n",
      "   ---------------------------------------- 41.0/41.0 MB 26.0 MB/s eta 0:00:00\n",
      "Using cached threadpoolctl-3.6.0-py3-none-any.whl (18 kB)\n",
      "Installing collected packages: threadpoolctl, scipy, joblib, scikit-learn\n",
      "Successfully installed joblib-1.5.0 scikit-learn-1.6.1 scipy-1.15.3 threadpoolctl-3.6.0\n"
     ]
    },
    {
     "name": "stderr",
     "output_type": "stream",
     "text": [
      "\n",
      "[notice] A new release of pip is available: 24.2 -> 25.1.1\n",
      "[notice] To update, run: python.exe -m pip install --upgrade pip\n"
     ]
    }
   ],
   "source": [
    "#!pip install sklearn\n",
    "!pip install scikit-learn"
   ]
  },
  {
   "cell_type": "code",
   "execution_count": 7,
   "id": "ce83e306",
   "metadata": {},
   "outputs": [
    {
     "name": "stdout",
     "output_type": "stream",
     "text": [
      "YF.download() has changed argument auto_adjust default to True\n"
     ]
    },
    {
     "name": "stderr",
     "output_type": "stream",
     "text": [
      "[*********************100%***********************]  1 of 1 completed\n"
     ]
    }
   ],
   "source": [
    "import yfinance as yf\n",
    "from preprocessing import preprocess_data\n",
    "\n",
    "# Baixar dados da BBAS3\n",
    "df = yf.download(\"BBAS3.SA\", start=\"2018-01-01\", end=\"2024-07-20\")\n",
    "\n",
    "# Pré-processar\n",
    "X, y, scaler, df_scaled = preprocess_data(df, look_back=60)\n"
   ]
  }
 ],
 "metadata": {
  "kernelspec": {
   "display_name": "venv",
   "language": "python",
   "name": "python3"
  },
  "language_info": {
   "codemirror_mode": {
    "name": "ipython",
    "version": 3
   },
   "file_extension": ".py",
   "mimetype": "text/x-python",
   "name": "python",
   "nbconvert_exporter": "python",
   "pygments_lexer": "ipython3",
   "version": "3.12.7"
  }
 },
 "nbformat": 4,
 "nbformat_minor": 5
}
